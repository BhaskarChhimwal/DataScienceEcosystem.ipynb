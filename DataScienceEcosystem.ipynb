{
 "cells": [
  {
   "cell_type": "markdown",
   "id": "2dc12485-4d15-4e0a-9a02-7d1783c407ef",
   "metadata": {},
   "source": [
    "# Data Science Tools and Ecosystem into the cell."
   ]
  },
  {
   "cell_type": "markdown",
   "id": "3f448522-7fc2-4313-b3e0-c46bb2faf233",
   "metadata": {},
   "source": [
    "In this notebook , Data Science Tools and Ecosystem are summarized."
   ]
  },
  {
   "cell_type": "markdown",
   "id": "88491195-b47b-40de-ba73-ca409528507a",
   "metadata": {},
   "source": [
    "some of the popular languages that Data Scientist use are:\n",
    "1. Python\n",
    "2. R\n",
    "3. SQL"
   ]
  },
  {
   "cell_type": "markdown",
   "id": "52f58c54-ccf1-432e-ad92-6e20f5ae589c",
   "metadata": {},
   "source": [
    "# some of the commonly used libraries used by Data Scientist include:\n",
    "1. Pandas\n",
    "2. Numpy\n",
    "3. Matplotlib"
   ]
  },
  {
   "cell_type": "markdown",
   "id": "7c407cca-a47e-401c-a89e-2cf308a75f81",
   "metadata": {},
   "source": [
    "| Data Science Tools |\n",
    "|--------------------|\n",
    "| Jupyter            |\n",
    "| Anaconda           |\n",
    "| TensorFlow         |"
   ]
  },
  {
   "cell_type": "markdown",
   "id": "2f3c26b9-b68e-4b27-b09d-cc4b94334b31",
   "metadata": {},
   "source": [
    "### Below are a few example of evaluating arithmetic expression in python.\n",
    "For example, let's evaluate the expression 5+3:\n",
    "'''python\n",
    "result = 5 + 3\n",
    "print(result) # Output:8\n",
    "\n"
   ]
  },
  {
   "cell_type": "code",
   "execution_count": 5,
   "id": "c3a8a35a-3268-4bda-93a1-090e35905d05",
   "metadata": {},
   "outputs": [
    {
     "name": "stdout",
     "output_type": "stream",
     "text": [
      "17\n"
     ]
    }
   ],
   "source": [
    "# This is a simple arithmetic expression to multiply then add integers.\n",
    "result = (3*4)+5\n",
    "print(result)"
   ]
  },
  {
   "cell_type": "code",
   "execution_count": 1,
   "id": "71e2df7f-adef-4ddb-9018-5f4e8b2d474f",
   "metadata": {},
   "outputs": [
    {
     "data": {
      "text/plain": [
       "3.3333333333333335"
      ]
     },
     "execution_count": 1,
     "metadata": {},
     "output_type": "execute_result"
    }
   ],
   "source": [
    "# Convert 200 minute to hours by dividing by 60\n",
    "hours = 200 / 60\n",
    "hours"
   ]
  },
  {
   "cell_type": "markdown",
   "id": "1be81372-9f16-4c8d-acba-874e54edf3b0",
   "metadata": {},
   "source": [
    "__Objectives:__\n",
    "- List popular languages for Data Science.\n",
    "- Explain basic data visualization techniques.\n",
    "- Introduce machine learning algorithms."
   ]
  },
  {
   "cell_type": "markdown",
   "id": "7dab9b54-92cd-45c2-8cb5-56c9998cfde0",
   "metadata": {},
   "source": [
    "## Author\n",
    "   Bhaskar Chhimwal"
   ]
  },
  {
   "cell_type": "code",
   "execution_count": null,
   "id": "9b7d0e67-d0a9-41e7-9eba-7247772b94a3",
   "metadata": {},
   "outputs": [],
   "source": []
  }
 ],
 "metadata": {
  "kernelspec": {
   "display_name": "Python 3 (ipykernel)",
   "language": "python",
   "name": "python3"
  },
  "language_info": {
   "codemirror_mode": {
    "name": "ipython",
    "version": 3
   },
   "file_extension": ".py",
   "mimetype": "text/x-python",
   "name": "python",
   "nbconvert_exporter": "python",
   "pygments_lexer": "ipython3",
   "version": "3.11.7"
  }
 },
 "nbformat": 4,
 "nbformat_minor": 5
}
